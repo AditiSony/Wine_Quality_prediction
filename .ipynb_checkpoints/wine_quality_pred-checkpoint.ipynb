{
 "cells": [
  {
   "cell_type": "markdown",
   "id": "2ede93d2-8256-48e9-808b-91f08d8fbdfb",
   "metadata": {},
   "source": [
    "# Red Wine quality prediction by Random Forest"
   ]
  },
  {
   "cell_type": "markdown",
   "id": "3d133e80-db88-4acf-ba2b-338e5688d793",
   "metadata": {},
   "source": [
    "(https://elitedatascience.com/python-machine-learning-tutorial-scikit-learn)"
   ]
  },
  {
   "cell_type": "code",
   "execution_count": 3,
   "id": "0d57bac0-7ed6-4c4b-bd1d-4114e2ce438f",
   "metadata": {},
   "outputs": [],
   "source": [
    "# Importing libraries\n",
    "import numpy as np\n",
    "import pandas as pd\n",
    "from sklearn.model_selection import train_test_split\n",
    "from sklearn import preprocessing\n",
    "from sklearn.ensemble import RandomForestRegressor #Random Forest model family\n",
    "from sklearn.pipeline import make_pipeline # To make cross vaidation pipeline\n",
    "from sklearn.model_selection import GridSearchCV # for cross-validation\n",
    "from sklearn.metrics import mean_squared_error, r2_score # evaluation metrics\n",
    "import joblib # for storing sklearn models (alternative to pickle package for storing large numpy arrays)\n"
   ]
  },
  {
   "cell_type": "code",
   "execution_count": 15,
   "id": "fee48411-b3b1-416f-9f58-0a8301a77138",
   "metadata": {},
   "outputs": [],
   "source": [
    "# Loading data\n",
    "data = pd.read_csv('winequality-red.csv', sep=';')"
   ]
  },
  {
   "cell_type": "code",
   "execution_count": 16,
   "id": "c3817609-64bb-44f3-9d7c-449870f691a4",
   "metadata": {},
   "outputs": [
    {
     "data": {
      "text/html": [
       "<div>\n",
       "<style scoped>\n",
       "    .dataframe tbody tr th:only-of-type {\n",
       "        vertical-align: middle;\n",
       "    }\n",
       "\n",
       "    .dataframe tbody tr th {\n",
       "        vertical-align: top;\n",
       "    }\n",
       "\n",
       "    .dataframe thead th {\n",
       "        text-align: right;\n",
       "    }\n",
       "</style>\n",
       "<table border=\"1\" class=\"dataframe\">\n",
       "  <thead>\n",
       "    <tr style=\"text-align: right;\">\n",
       "      <th></th>\n",
       "      <th>fixed acidity</th>\n",
       "      <th>volatile acidity</th>\n",
       "      <th>citric acid</th>\n",
       "      <th>residual sugar</th>\n",
       "      <th>chlorides</th>\n",
       "      <th>free sulfur dioxide</th>\n",
       "      <th>total sulfur dioxide</th>\n",
       "      <th>density</th>\n",
       "      <th>pH</th>\n",
       "      <th>sulphates</th>\n",
       "      <th>alcohol</th>\n",
       "      <th>quality</th>\n",
       "    </tr>\n",
       "  </thead>\n",
       "  <tbody>\n",
       "    <tr>\n",
       "      <th>0</th>\n",
       "      <td>7.4</td>\n",
       "      <td>0.70</td>\n",
       "      <td>0.00</td>\n",
       "      <td>1.9</td>\n",
       "      <td>0.076</td>\n",
       "      <td>11.0</td>\n",
       "      <td>34.0</td>\n",
       "      <td>0.9978</td>\n",
       "      <td>3.51</td>\n",
       "      <td>0.56</td>\n",
       "      <td>9.4</td>\n",
       "      <td>5</td>\n",
       "    </tr>\n",
       "    <tr>\n",
       "      <th>1</th>\n",
       "      <td>7.8</td>\n",
       "      <td>0.88</td>\n",
       "      <td>0.00</td>\n",
       "      <td>2.6</td>\n",
       "      <td>0.098</td>\n",
       "      <td>25.0</td>\n",
       "      <td>67.0</td>\n",
       "      <td>0.9968</td>\n",
       "      <td>3.20</td>\n",
       "      <td>0.68</td>\n",
       "      <td>9.8</td>\n",
       "      <td>5</td>\n",
       "    </tr>\n",
       "    <tr>\n",
       "      <th>2</th>\n",
       "      <td>7.8</td>\n",
       "      <td>0.76</td>\n",
       "      <td>0.04</td>\n",
       "      <td>2.3</td>\n",
       "      <td>0.092</td>\n",
       "      <td>15.0</td>\n",
       "      <td>54.0</td>\n",
       "      <td>0.9970</td>\n",
       "      <td>3.26</td>\n",
       "      <td>0.65</td>\n",
       "      <td>9.8</td>\n",
       "      <td>5</td>\n",
       "    </tr>\n",
       "    <tr>\n",
       "      <th>3</th>\n",
       "      <td>11.2</td>\n",
       "      <td>0.28</td>\n",
       "      <td>0.56</td>\n",
       "      <td>1.9</td>\n",
       "      <td>0.075</td>\n",
       "      <td>17.0</td>\n",
       "      <td>60.0</td>\n",
       "      <td>0.9980</td>\n",
       "      <td>3.16</td>\n",
       "      <td>0.58</td>\n",
       "      <td>9.8</td>\n",
       "      <td>6</td>\n",
       "    </tr>\n",
       "    <tr>\n",
       "      <th>4</th>\n",
       "      <td>7.4</td>\n",
       "      <td>0.70</td>\n",
       "      <td>0.00</td>\n",
       "      <td>1.9</td>\n",
       "      <td>0.076</td>\n",
       "      <td>11.0</td>\n",
       "      <td>34.0</td>\n",
       "      <td>0.9978</td>\n",
       "      <td>3.51</td>\n",
       "      <td>0.56</td>\n",
       "      <td>9.4</td>\n",
       "      <td>5</td>\n",
       "    </tr>\n",
       "  </tbody>\n",
       "</table>\n",
       "</div>"
      ],
      "text/plain": [
       "   fixed acidity  volatile acidity  citric acid  residual sugar  chlorides  \\\n",
       "0            7.4              0.70         0.00             1.9      0.076   \n",
       "1            7.8              0.88         0.00             2.6      0.098   \n",
       "2            7.8              0.76         0.04             2.3      0.092   \n",
       "3           11.2              0.28         0.56             1.9      0.075   \n",
       "4            7.4              0.70         0.00             1.9      0.076   \n",
       "\n",
       "   free sulfur dioxide  total sulfur dioxide  density    pH  sulphates  \\\n",
       "0                 11.0                  34.0   0.9978  3.51       0.56   \n",
       "1                 25.0                  67.0   0.9968  3.20       0.68   \n",
       "2                 15.0                  54.0   0.9970  3.26       0.65   \n",
       "3                 17.0                  60.0   0.9980  3.16       0.58   \n",
       "4                 11.0                  34.0   0.9978  3.51       0.56   \n",
       "\n",
       "   alcohol  quality  \n",
       "0      9.4        5  \n",
       "1      9.8        5  \n",
       "2      9.8        5  \n",
       "3      9.8        6  \n",
       "4      9.4        5  "
      ]
     },
     "execution_count": 16,
     "metadata": {},
     "output_type": "execute_result"
    }
   ],
   "source": [
    "data.head()"
   ]
  },
  {
   "cell_type": "code",
   "execution_count": 17,
   "id": "a468e4e0-a2e8-45bc-95a2-9b6b65e9390e",
   "metadata": {},
   "outputs": [
    {
     "data": {
      "text/plain": [
       "(1599, 12)"
      ]
     },
     "execution_count": 17,
     "metadata": {},
     "output_type": "execute_result"
    }
   ],
   "source": [
    "data.shape"
   ]
  },
  {
   "cell_type": "code",
   "execution_count": 18,
   "id": "237dfd78-8ff5-42c1-a023-066e6455a5b1",
   "metadata": {},
   "outputs": [
    {
     "data": {
      "text/html": [
       "<div>\n",
       "<style scoped>\n",
       "    .dataframe tbody tr th:only-of-type {\n",
       "        vertical-align: middle;\n",
       "    }\n",
       "\n",
       "    .dataframe tbody tr th {\n",
       "        vertical-align: top;\n",
       "    }\n",
       "\n",
       "    .dataframe thead th {\n",
       "        text-align: right;\n",
       "    }\n",
       "</style>\n",
       "<table border=\"1\" class=\"dataframe\">\n",
       "  <thead>\n",
       "    <tr style=\"text-align: right;\">\n",
       "      <th></th>\n",
       "      <th>fixed acidity</th>\n",
       "      <th>volatile acidity</th>\n",
       "      <th>citric acid</th>\n",
       "      <th>residual sugar</th>\n",
       "      <th>chlorides</th>\n",
       "      <th>free sulfur dioxide</th>\n",
       "      <th>total sulfur dioxide</th>\n",
       "      <th>density</th>\n",
       "      <th>pH</th>\n",
       "      <th>sulphates</th>\n",
       "      <th>alcohol</th>\n",
       "      <th>quality</th>\n",
       "    </tr>\n",
       "  </thead>\n",
       "  <tbody>\n",
       "    <tr>\n",
       "      <th>count</th>\n",
       "      <td>1599.000000</td>\n",
       "      <td>1599.000000</td>\n",
       "      <td>1599.000000</td>\n",
       "      <td>1599.000000</td>\n",
       "      <td>1599.000000</td>\n",
       "      <td>1599.000000</td>\n",
       "      <td>1599.000000</td>\n",
       "      <td>1599.000000</td>\n",
       "      <td>1599.000000</td>\n",
       "      <td>1599.000000</td>\n",
       "      <td>1599.000000</td>\n",
       "      <td>1599.000000</td>\n",
       "    </tr>\n",
       "    <tr>\n",
       "      <th>mean</th>\n",
       "      <td>8.319637</td>\n",
       "      <td>0.527821</td>\n",
       "      <td>0.270976</td>\n",
       "      <td>2.538806</td>\n",
       "      <td>0.087467</td>\n",
       "      <td>15.874922</td>\n",
       "      <td>46.467792</td>\n",
       "      <td>0.996747</td>\n",
       "      <td>3.311113</td>\n",
       "      <td>0.658149</td>\n",
       "      <td>10.422983</td>\n",
       "      <td>5.636023</td>\n",
       "    </tr>\n",
       "    <tr>\n",
       "      <th>std</th>\n",
       "      <td>1.741096</td>\n",
       "      <td>0.179060</td>\n",
       "      <td>0.194801</td>\n",
       "      <td>1.409928</td>\n",
       "      <td>0.047065</td>\n",
       "      <td>10.460157</td>\n",
       "      <td>32.895324</td>\n",
       "      <td>0.001887</td>\n",
       "      <td>0.154386</td>\n",
       "      <td>0.169507</td>\n",
       "      <td>1.065668</td>\n",
       "      <td>0.807569</td>\n",
       "    </tr>\n",
       "    <tr>\n",
       "      <th>min</th>\n",
       "      <td>4.600000</td>\n",
       "      <td>0.120000</td>\n",
       "      <td>0.000000</td>\n",
       "      <td>0.900000</td>\n",
       "      <td>0.012000</td>\n",
       "      <td>1.000000</td>\n",
       "      <td>6.000000</td>\n",
       "      <td>0.990070</td>\n",
       "      <td>2.740000</td>\n",
       "      <td>0.330000</td>\n",
       "      <td>8.400000</td>\n",
       "      <td>3.000000</td>\n",
       "    </tr>\n",
       "    <tr>\n",
       "      <th>25%</th>\n",
       "      <td>7.100000</td>\n",
       "      <td>0.390000</td>\n",
       "      <td>0.090000</td>\n",
       "      <td>1.900000</td>\n",
       "      <td>0.070000</td>\n",
       "      <td>7.000000</td>\n",
       "      <td>22.000000</td>\n",
       "      <td>0.995600</td>\n",
       "      <td>3.210000</td>\n",
       "      <td>0.550000</td>\n",
       "      <td>9.500000</td>\n",
       "      <td>5.000000</td>\n",
       "    </tr>\n",
       "    <tr>\n",
       "      <th>50%</th>\n",
       "      <td>7.900000</td>\n",
       "      <td>0.520000</td>\n",
       "      <td>0.260000</td>\n",
       "      <td>2.200000</td>\n",
       "      <td>0.079000</td>\n",
       "      <td>14.000000</td>\n",
       "      <td>38.000000</td>\n",
       "      <td>0.996750</td>\n",
       "      <td>3.310000</td>\n",
       "      <td>0.620000</td>\n",
       "      <td>10.200000</td>\n",
       "      <td>6.000000</td>\n",
       "    </tr>\n",
       "    <tr>\n",
       "      <th>75%</th>\n",
       "      <td>9.200000</td>\n",
       "      <td>0.640000</td>\n",
       "      <td>0.420000</td>\n",
       "      <td>2.600000</td>\n",
       "      <td>0.090000</td>\n",
       "      <td>21.000000</td>\n",
       "      <td>62.000000</td>\n",
       "      <td>0.997835</td>\n",
       "      <td>3.400000</td>\n",
       "      <td>0.730000</td>\n",
       "      <td>11.100000</td>\n",
       "      <td>6.000000</td>\n",
       "    </tr>\n",
       "    <tr>\n",
       "      <th>max</th>\n",
       "      <td>15.900000</td>\n",
       "      <td>1.580000</td>\n",
       "      <td>1.000000</td>\n",
       "      <td>15.500000</td>\n",
       "      <td>0.611000</td>\n",
       "      <td>72.000000</td>\n",
       "      <td>289.000000</td>\n",
       "      <td>1.003690</td>\n",
       "      <td>4.010000</td>\n",
       "      <td>2.000000</td>\n",
       "      <td>14.900000</td>\n",
       "      <td>8.000000</td>\n",
       "    </tr>\n",
       "  </tbody>\n",
       "</table>\n",
       "</div>"
      ],
      "text/plain": [
       "       fixed acidity  volatile acidity  citric acid  residual sugar  \\\n",
       "count    1599.000000       1599.000000  1599.000000     1599.000000   \n",
       "mean        8.319637          0.527821     0.270976        2.538806   \n",
       "std         1.741096          0.179060     0.194801        1.409928   \n",
       "min         4.600000          0.120000     0.000000        0.900000   \n",
       "25%         7.100000          0.390000     0.090000        1.900000   \n",
       "50%         7.900000          0.520000     0.260000        2.200000   \n",
       "75%         9.200000          0.640000     0.420000        2.600000   \n",
       "max        15.900000          1.580000     1.000000       15.500000   \n",
       "\n",
       "         chlorides  free sulfur dioxide  total sulfur dioxide      density  \\\n",
       "count  1599.000000          1599.000000           1599.000000  1599.000000   \n",
       "mean      0.087467            15.874922             46.467792     0.996747   \n",
       "std       0.047065            10.460157             32.895324     0.001887   \n",
       "min       0.012000             1.000000              6.000000     0.990070   \n",
       "25%       0.070000             7.000000             22.000000     0.995600   \n",
       "50%       0.079000            14.000000             38.000000     0.996750   \n",
       "75%       0.090000            21.000000             62.000000     0.997835   \n",
       "max       0.611000            72.000000            289.000000     1.003690   \n",
       "\n",
       "                pH    sulphates      alcohol      quality  \n",
       "count  1599.000000  1599.000000  1599.000000  1599.000000  \n",
       "mean      3.311113     0.658149    10.422983     5.636023  \n",
       "std       0.154386     0.169507     1.065668     0.807569  \n",
       "min       2.740000     0.330000     8.400000     3.000000  \n",
       "25%       3.210000     0.550000     9.500000     5.000000  \n",
       "50%       3.310000     0.620000    10.200000     6.000000  \n",
       "75%       3.400000     0.730000    11.100000     6.000000  \n",
       "max       4.010000     2.000000    14.900000     8.000000  "
      ]
     },
     "execution_count": 18,
     "metadata": {},
     "output_type": "execute_result"
    }
   ],
   "source": [
    "data.describe()"
   ]
  },
  {
   "cell_type": "code",
   "execution_count": 19,
   "id": "9257b887-d875-4531-9297-d1981fad636e",
   "metadata": {},
   "outputs": [],
   "source": [
    "# Separate target and predictor variables\n",
    "y = data.quality\n",
    "X = data.drop('quality', axis=1)\n"
   ]
  },
  {
   "cell_type": "code",
   "execution_count": 20,
   "id": "68df5a4f-960d-4532-9676-ec900873019e",
   "metadata": {},
   "outputs": [],
   "source": [
    "# Splitting data into training and test sets\n",
    "X_train, X_test, y_train, y_test = train_test_split(X, y, \n",
    "                                                    test_size=0.2, \n",
    "                                                    random_state=123, \n",
    "                                                    stratify=y)\n",
    "# stratification by target variable helps in equal distribution of target variable in all sub-groups"
   ]
  },
  {
   "cell_type": "code",
   "execution_count": 23,
   "id": "e74e993a-72e8-4447-b785-2f97c6cd8f9a",
   "metadata": {},
   "outputs": [
    {
     "data": {
      "text/plain": [
       "array([ 1.16664562e-16, -3.05550043e-17, -8.47206937e-17, -2.22218213e-17,\n",
       "        2.77772766e-18, -6.38877362e-17, -4.16659149e-18, -1.20753377e-13,\n",
       "       -8.70817622e-16, -4.08325966e-16, -1.16664562e-15])"
      ]
     },
     "execution_count": 23,
     "metadata": {},
     "output_type": "execute_result"
    }
   ],
   "source": [
    "# Scaling of data using Transformer API\n",
    "\"\"\" Transformer API helps use the same means and std deviations on both training and test sets and also on any future datasets\n",
    "thus giving more realistic estimate of model performance and also allows to insert into cross-validation pipeline\"\"\"\n",
    "\n",
    "# Fitting Transformer API to training data (it'll save mean and std)\n",
    "scaler = preprocessing.StandardScaler().fit(X_train)\n",
    "\n",
    "# Applying to training data\n",
    "X_train_scaled = scaler.transform(X_train)\n",
    " \n",
    "X_train_scaled.mean(axis=0) # checking mean is now zero"
   ]
  },
  {
   "cell_type": "code",
   "execution_count": 24,
   "id": "5e01bc12-bf04-42ef-8e27-9b3143551ac9",
   "metadata": {},
   "outputs": [
    {
     "data": {
      "text/plain": [
       "array([1., 1., 1., 1., 1., 1., 1., 1., 1., 1., 1.])"
      ]
     },
     "execution_count": 24,
     "metadata": {},
     "output_type": "execute_result"
    }
   ],
   "source": [
    "X_train_scaled.std(axis=0) # checking std is now 1"
   ]
  },
  {
   "cell_type": "code",
   "execution_count": 25,
   "id": "0465ac96-1970-4921-a61f-dc9235e6ece7",
   "metadata": {},
   "outputs": [
    {
     "data": {
      "text/plain": [
       "array([ 0.02776704,  0.02592492, -0.03078587, -0.03137977, -0.00471876,\n",
       "       -0.04413827, -0.02414174, -0.00293273, -0.00467444, -0.10894663,\n",
       "        0.01043391])"
      ]
     },
     "execution_count": 25,
     "metadata": {},
     "output_type": "execute_result"
    }
   ],
   "source": [
    "# Applying Transformer API to test set\n",
    "X_test_scaled = scaler.transform(X_test)\n",
    "\n",
    "X_test_scaled.mean(axis=0) # not exactly 0 as mean and std used are from training set"
   ]
  },
  {
   "cell_type": "code",
   "execution_count": 27,
   "id": "fb55e08b-661c-49ad-bdb9-c8e90ecf7f0c",
   "metadata": {},
   "outputs": [
    {
     "data": {
      "text/plain": [
       "array([1.02160495, 1.00135689, 0.97456598, 0.91099054, 0.86716698,\n",
       "       0.94193125, 1.03673213, 1.03145119, 0.95734849, 0.83829505,\n",
       "       1.0286218 ])"
      ]
     },
     "execution_count": 27,
     "metadata": {},
     "output_type": "execute_result"
    }
   ],
   "source": [
    "X_test_scaled.std(axis=0) # not exactly 1 as mean and std used are from training set"
   ]
  },
  {
   "cell_type": "code",
   "execution_count": 28,
   "id": "6024eea1-eef6-4572-a12f-0e41d53d776b",
   "metadata": {},
   "outputs": [],
   "source": [
    "\"\"\" In practice, when we set up the cross-validation pipeline, we won't even need to manually fit the Transformer API.\n",
    "Instead, we'll simply declare the class object, like so:\"\"\"\n",
    "\n",
    "# Pipeline with pre-processing and model\n",
    "pipeline = make_pipeline(preprocessing.StandardScaler(), \n",
    "                         RandomForestRegressor(n_estimators=100))"
   ]
  },
  {
   "cell_type": "code",
   "execution_count": 30,
   "id": "d17378e2-0e47-45ed-b2d5-bd0318586c52",
   "metadata": {},
   "outputs": [
    {
     "data": {
      "text/plain": [
       "{'memory': None,\n",
       " 'steps': [('standardscaler', StandardScaler()),\n",
       "  ('randomforestregressor', RandomForestRegressor())],\n",
       " 'verbose': False,\n",
       " 'standardscaler': StandardScaler(),\n",
       " 'randomforestregressor': RandomForestRegressor(),\n",
       " 'standardscaler__copy': True,\n",
       " 'standardscaler__with_mean': True,\n",
       " 'standardscaler__with_std': True,\n",
       " 'randomforestregressor__bootstrap': True,\n",
       " 'randomforestregressor__ccp_alpha': 0.0,\n",
       " 'randomforestregressor__criterion': 'mse',\n",
       " 'randomforestregressor__max_depth': None,\n",
       " 'randomforestregressor__max_features': 'auto',\n",
       " 'randomforestregressor__max_leaf_nodes': None,\n",
       " 'randomforestregressor__max_samples': None,\n",
       " 'randomforestregressor__min_impurity_decrease': 0.0,\n",
       " 'randomforestregressor__min_impurity_split': None,\n",
       " 'randomforestregressor__min_samples_leaf': 1,\n",
       " 'randomforestregressor__min_samples_split': 2,\n",
       " 'randomforestregressor__min_weight_fraction_leaf': 0.0,\n",
       " 'randomforestregressor__n_estimators': 100,\n",
       " 'randomforestregressor__n_jobs': None,\n",
       " 'randomforestregressor__oob_score': False,\n",
       " 'randomforestregressor__random_state': None,\n",
       " 'randomforestregressor__verbose': 0,\n",
       " 'randomforestregressor__warm_start': False}"
      ]
     },
     "execution_count": 30,
     "metadata": {},
     "output_type": "execute_result"
    }
   ],
   "source": [
    "# List of tunable hyperparameters\n",
    "pipeline.get_params()"
   ]
  },
  {
   "cell_type": "code",
   "execution_count": 31,
   "id": "1e5ff4b1-8f4f-420a-9a77-ed12afa779f7",
   "metadata": {},
   "outputs": [],
   "source": [
    "# Declare hyperparameters to tune through cross-validation\n",
    "hyperparameters = { 'randomforestregressor__max_features' : ['auto', 'sqrt', 'log2'],\n",
    "                  'randomforestregressor__max_depth': [None, 5, 3, 1]}\n",
    "\n",
    "# Note- when it's tuned through a pipeline, you'll need to prepend  randomforestregressor__ before the parameter name\n",
    "# Also format needs to be in form of dictionary (key-value pairs)"
   ]
  },
  {
   "cell_type": "code",
   "execution_count": 32,
   "id": "f231ca27-709c-4739-844e-7c13d139c9f3",
   "metadata": {},
   "outputs": [
    {
     "data": {
      "text/plain": [
       "GridSearchCV(cv=10,\n",
       "             estimator=Pipeline(steps=[('standardscaler', StandardScaler()),\n",
       "                                       ('randomforestregressor',\n",
       "                                        RandomForestRegressor())]),\n",
       "             param_grid={'randomforestregressor__max_depth': [None, 5, 3, 1],\n",
       "                         'randomforestregressor__max_features': ['auto', 'sqrt',\n",
       "                                                                 'log2']})"
      ]
     },
     "execution_count": 32,
     "metadata": {},
     "output_type": "execute_result"
    }
   ],
   "source": [
    "# sklearn cross-validation with pipeline\n",
    "clf = GridSearchCV(pipeline, hyperparameters, cv=10)\n",
    " \n",
    "# Fit and tune model\n",
    "clf.fit(X_train, y_train)"
   ]
  },
  {
   "cell_type": "code",
   "execution_count": 33,
   "id": "5cb9898c-717a-4a4b-a3e9-b91111c64acf",
   "metadata": {},
   "outputs": [
    {
     "data": {
      "text/plain": [
       "{'randomforestregressor__max_depth': None,\n",
       " 'randomforestregressor__max_features': 'log2'}"
      ]
     },
     "execution_count": 33,
     "metadata": {},
     "output_type": "execute_result"
    }
   ],
   "source": [
    "clf.best_params_"
   ]
  },
  {
   "cell_type": "code",
   "execution_count": 34,
   "id": "3e0719d5-4c68-4271-9e1d-3f433f84ecb8",
   "metadata": {},
   "outputs": [
    {
     "data": {
      "text/plain": [
       "True"
      ]
     },
     "execution_count": 34,
     "metadata": {},
     "output_type": "execute_result"
    }
   ],
   "source": [
    "# Confirming model is re-trained using best hyperparameters (GridSearchCV automatically does it)\n",
    "clf.refit"
   ]
  },
  {
   "cell_type": "code",
   "execution_count": 35,
   "id": "eeed55df-500b-4a0d-8fe8-e45cf00aff68",
   "metadata": {},
   "outputs": [],
   "source": [
    "# Predicting new set of data (on test data)\n",
    "y_pred = clf.predict(X_test)"
   ]
  },
  {
   "cell_type": "code",
   "execution_count": 36,
   "id": "4610ac7c-a90b-4faf-9e0b-ddeaafce3160",
   "metadata": {},
   "outputs": [
    {
     "data": {
      "text/plain": [
       "0.4548561050911073"
      ]
     },
     "execution_count": 36,
     "metadata": {},
     "output_type": "execute_result"
    }
   ],
   "source": [
    "# Model Performance Evaluation\n",
    "r2_score(y_test, y_pred)"
   ]
  },
  {
   "cell_type": "code",
   "execution_count": 37,
   "id": "c2cec2d5-e707-4ca6-8f52-7109c2151311",
   "metadata": {},
   "outputs": [
    {
     "data": {
      "text/plain": [
       "0.35176687500000003"
      ]
     },
     "execution_count": 37,
     "metadata": {},
     "output_type": "execute_result"
    }
   ],
   "source": [
    "mean_squared_error(y_test, y_pred)"
   ]
  },
  {
   "cell_type": "code",
   "execution_count": 38,
   "id": "1b623962-2242-4ce6-aa25-229524d02355",
   "metadata": {},
   "outputs": [
    {
     "data": {
      "text/plain": [
       "['rf_regressor.pkl']"
      ]
     },
     "execution_count": 38,
     "metadata": {},
     "output_type": "execute_result"
    }
   ],
   "source": [
    "# Saving model for future use (to a .pkl file)\n",
    "joblib.dump(clf, 'rf_regressor.pkl')"
   ]
  },
  {
   "cell_type": "code",
   "execution_count": 39,
   "id": "3bf1f3b1-b4b2-4022-b58b-510f9b91766b",
   "metadata": {},
   "outputs": [
    {
     "data": {
      "text/plain": [
       "array([6.46, 5.75, 5.01, 5.52, 6.35, 5.51, 5.04, 4.93, 5.01, 6.05, 5.29,\n",
       "       5.63, 5.98, 5.08, 5.8 , 5.64, 6.52, 5.75, 5.77, 6.94, 5.33, 5.66,\n",
       "       5.08, 5.98, 5.96, 5.08, 5.49, 5.16, 5.93, 5.98, 5.82, 6.47, 5.98,\n",
       "       5.07, 4.92, 5.93, 5.04, 6.08, 4.99, 6.  , 4.87, 5.95, 6.59, 5.15,\n",
       "       6.2 , 5.36, 5.6 , 5.64, 5.14, 6.46, 6.15, 5.43, 5.8 , 5.23, 5.61,\n",
       "       5.64, 5.44, 5.37, 4.96, 5.3 , 5.25, 5.1 , 5.05, 5.8 , 6.06, 5.19,\n",
       "       6.42, 5.05, 5.18, 6.73, 5.84, 5.74, 5.07, 5.04, 5.27, 5.96, 5.31,\n",
       "       5.18, 5.2 , 5.28, 6.32, 5.53, 6.17, 6.5 , 5.07, 5.95, 6.29, 6.22,\n",
       "       5.74, 5.82, 5.95, 5.25, 6.29, 5.69, 5.77, 5.83, 6.72, 6.7 , 5.64,\n",
       "       6.77, 5.06, 5.55, 5.16, 6.41, 5.  , 4.77, 5.75, 5.01, 5.66, 5.98,\n",
       "       5.83, 5.5 , 5.97, 5.45, 5.16, 5.23, 5.97, 5.11, 5.02, 5.96, 5.87,\n",
       "       5.09, 5.77, 6.17, 5.28, 5.32, 5.35, 6.03, 5.57, 5.21, 5.82, 6.1 ,\n",
       "       5.22, 5.19, 5.07, 6.37, 5.03, 5.18, 6.66, 5.44, 5.15, 5.05, 5.63,\n",
       "       6.06, 5.29, 5.35, 5.13, 6.47, 5.7 , 5.15, 5.59, 5.18, 4.93, 4.98,\n",
       "       5.34, 5.98, 5.38, 5.75, 5.71, 5.28, 5.55, 5.29, 5.3 , 5.81, 5.01,\n",
       "       5.88, 5.13, 5.31, 5.37, 5.13, 6.1 , 5.15, 5.61, 5.09, 5.58, 5.4 ,\n",
       "       5.06, 5.51, 5.62, 5.05, 6.  , 5.5 , 4.98, 4.98, 5.16, 6.06, 5.11,\n",
       "       5.49, 5.34, 4.82, 5.49, 6.57, 5.84, 5.87, 5.46, 5.27, 5.32, 5.1 ,\n",
       "       6.35, 4.93, 6.22, 5.06, 5.23, 5.3 , 6.81, 6.03, 5.41, 5.12, 5.45,\n",
       "       5.95, 5.72, 6.06, 5.92, 6.22, 5.73, 5.98, 5.23, 5.34, 5.55, 5.24,\n",
       "       5.26, 5.83, 6.08, 5.61, 5.93, 5.89, 5.62, 6.22, 5.43, 5.9 , 5.39,\n",
       "       5.5 , 6.11, 5.66, 4.81, 4.59, 6.69, 6.42, 6.31, 5.36, 5.41, 5.35,\n",
       "       5.57, 6.16, 6.  , 5.18, 5.12, 5.44, 5.28, 6.39, 5.16, 5.07, 5.27,\n",
       "       5.19, 5.9 , 6.38, 5.74, 5.27, 5.58, 6.44, 5.46, 5.95, 5.25, 5.16,\n",
       "       5.8 , 5.75, 5.84, 5.58, 5.4 , 5.14, 5.68, 5.46, 6.58, 6.07, 5.61,\n",
       "       5.12, 5.97, 6.43, 5.97, 5.43, 5.63, 5.4 , 5.46, 6.09, 6.9 , 5.36,\n",
       "       6.41, 5.96, 5.4 , 5.37, 5.61, 5.17, 5.25, 6.16, 5.72, 5.93, 5.74,\n",
       "       5.94, 5.35, 5.72, 5.59, 6.03, 5.54, 6.89, 6.75, 5.83, 6.34, 5.08,\n",
       "       5.3 , 5.93, 5.29, 5.23, 6.03, 6.54, 6.32, 5.27, 5.45, 5.73, 5.98,\n",
       "       5.63])"
      ]
     },
     "execution_count": 39,
     "metadata": {},
     "output_type": "execute_result"
    }
   ],
   "source": [
    "# To load the model again\n",
    "clf2 = joblib.load('rf_regressor.pkl')\n",
    " \n",
    "# Predict data set using loaded model\n",
    "clf2.predict(X_test)"
   ]
  },
  {
   "cell_type": "code",
   "execution_count": null,
   "id": "d927a043-478b-4d66-ad80-9d033bef4345",
   "metadata": {},
   "outputs": [],
   "source": []
  }
 ],
 "metadata": {
  "kernelspec": {
   "display_name": "Python 3",
   "language": "python",
   "name": "python3"
  },
  "language_info": {
   "codemirror_mode": {
    "name": "ipython",
    "version": 3
   },
   "file_extension": ".py",
   "mimetype": "text/x-python",
   "name": "python",
   "nbconvert_exporter": "python",
   "pygments_lexer": "ipython3",
   "version": "3.8.8"
  }
 },
 "nbformat": 4,
 "nbformat_minor": 5
}
